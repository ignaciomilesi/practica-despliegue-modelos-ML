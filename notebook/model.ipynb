{
 "cells": [
  {
   "attachments": {},
   "cell_type": "markdown",
   "metadata": {},
   "source": [
    "### Preparacion del dataset\n",
    "\n",
    "Del estudio realizado en el [Data-analisis](data-analisis.ipynb)  se obtiene que los parametros importantes para modelar son: 'Species', 'Light_ISF', 'Soil', 'Sterile', 'Conspecific', 'AMF', 'EMF', 'Phenolics', 'Lignin', 'NSC' y 'Event', siendo este ultimo el target."
   ]
  },
  {
   "cell_type": "code",
   "execution_count": 1,
   "metadata": {},
   "outputs": [],
   "source": [
    "import pandas as pd\n",
    "\n",
    "dataset = pd.read_csv(\"../dataset/Tree_Data.csv\")"
   ]
  },
  {
   "cell_type": "code",
   "execution_count": 2,
   "metadata": {},
   "outputs": [
    {
     "name": "stdout",
     "output_type": "stream",
     "text": [
      "<class 'pandas.core.frame.DataFrame'>\n",
      "RangeIndex: 2783 entries, 0 to 2782\n",
      "Data columns (total 11 columns):\n",
      " #   Column       Non-Null Count  Dtype  \n",
      "---  ------       --------------  -----  \n",
      " 0   Species      2783 non-null   object \n",
      " 1   Light_ISF    2783 non-null   float64\n",
      " 2   Soil         2783 non-null   object \n",
      " 3   Sterile      2783 non-null   object \n",
      " 4   Conspecific  2783 non-null   object \n",
      " 5   AMF          2783 non-null   float64\n",
      " 6   EMF          1283 non-null   float64\n",
      " 7   Phenolics    2783 non-null   float64\n",
      " 8   Lignin       2783 non-null   float64\n",
      " 9   NSC          2783 non-null   float64\n",
      " 10  Event        2782 non-null   float64\n",
      "dtypes: float64(7), object(4)\n",
      "memory usage: 239.3+ KB\n"
     ]
    }
   ],
   "source": [
    "dataset_modif = dataset[['Species', 'Light_ISF', 'Soil', 'Sterile', \n",
    "                         'Conspecific', 'AMF', 'EMF', 'Phenolics', 'Lignin', 'NSC', 'Event']]\n",
    "\n",
    "dataset_modif.info()"
   ]
  },
  {
   "attachments": {},
   "cell_type": "markdown",
   "metadata": {},
   "source": [
    "Un solo Event es null, lo elimino y los nan del EMF los paso a 0"
   ]
  },
  {
   "cell_type": "code",
   "execution_count": 3,
   "metadata": {},
   "outputs": [
    {
     "data": {
      "text/html": [
       "<div>\n",
       "<style scoped>\n",
       "    .dataframe tbody tr th:only-of-type {\n",
       "        vertical-align: middle;\n",
       "    }\n",
       "\n",
       "    .dataframe tbody tr th {\n",
       "        vertical-align: top;\n",
       "    }\n",
       "\n",
       "    .dataframe thead th {\n",
       "        text-align: right;\n",
       "    }\n",
       "</style>\n",
       "<table border=\"1\" class=\"dataframe\">\n",
       "  <thead>\n",
       "    <tr style=\"text-align: right;\">\n",
       "      <th></th>\n",
       "      <th>Species</th>\n",
       "      <th>Light_ISF</th>\n",
       "      <th>Soil</th>\n",
       "      <th>Sterile</th>\n",
       "      <th>Conspecific</th>\n",
       "      <th>AMF</th>\n",
       "      <th>EMF</th>\n",
       "      <th>Phenolics</th>\n",
       "      <th>Lignin</th>\n",
       "      <th>NSC</th>\n",
       "      <th>Event</th>\n",
       "    </tr>\n",
       "  </thead>\n",
       "  <tbody>\n",
       "    <tr>\n",
       "      <th>0</th>\n",
       "      <td>Acer saccharum</td>\n",
       "      <td>0.106</td>\n",
       "      <td>Prunus serotina</td>\n",
       "      <td>Non-Sterile</td>\n",
       "      <td>Heterospecific</td>\n",
       "      <td>22.00</td>\n",
       "      <td>0.00</td>\n",
       "      <td>-0.56</td>\n",
       "      <td>13.86</td>\n",
       "      <td>12.15</td>\n",
       "      <td>1.0</td>\n",
       "    </tr>\n",
       "    <tr>\n",
       "      <th>1</th>\n",
       "      <td>Quercus alba</td>\n",
       "      <td>0.106</td>\n",
       "      <td>Quercus rubra</td>\n",
       "      <td>Non-Sterile</td>\n",
       "      <td>Heterospecific</td>\n",
       "      <td>15.82</td>\n",
       "      <td>31.07</td>\n",
       "      <td>5.19</td>\n",
       "      <td>20.52</td>\n",
       "      <td>19.29</td>\n",
       "      <td>0.0</td>\n",
       "    </tr>\n",
       "    <tr>\n",
       "      <th>2</th>\n",
       "      <td>Quercus rubra</td>\n",
       "      <td>0.106</td>\n",
       "      <td>Prunus serotina</td>\n",
       "      <td>Non-Sterile</td>\n",
       "      <td>Heterospecific</td>\n",
       "      <td>24.45</td>\n",
       "      <td>28.19</td>\n",
       "      <td>3.36</td>\n",
       "      <td>24.74</td>\n",
       "      <td>15.01</td>\n",
       "      <td>1.0</td>\n",
       "    </tr>\n",
       "    <tr>\n",
       "      <th>3</th>\n",
       "      <td>Acer saccharum</td>\n",
       "      <td>0.080</td>\n",
       "      <td>Prunus serotina</td>\n",
       "      <td>Non-Sterile</td>\n",
       "      <td>Heterospecific</td>\n",
       "      <td>22.23</td>\n",
       "      <td>0.00</td>\n",
       "      <td>-0.71</td>\n",
       "      <td>14.29</td>\n",
       "      <td>12.36</td>\n",
       "      <td>1.0</td>\n",
       "    </tr>\n",
       "    <tr>\n",
       "      <th>4</th>\n",
       "      <td>Acer saccharum</td>\n",
       "      <td>0.060</td>\n",
       "      <td>Prunus serotina</td>\n",
       "      <td>Non-Sterile</td>\n",
       "      <td>Heterospecific</td>\n",
       "      <td>21.15</td>\n",
       "      <td>0.00</td>\n",
       "      <td>-0.58</td>\n",
       "      <td>10.85</td>\n",
       "      <td>11.20</td>\n",
       "      <td>1.0</td>\n",
       "    </tr>\n",
       "    <tr>\n",
       "      <th>...</th>\n",
       "      <td>...</td>\n",
       "      <td>...</td>\n",
       "      <td>...</td>\n",
       "      <td>...</td>\n",
       "      <td>...</td>\n",
       "      <td>...</td>\n",
       "      <td>...</td>\n",
       "      <td>...</td>\n",
       "      <td>...</td>\n",
       "      <td>...</td>\n",
       "      <td>...</td>\n",
       "    </tr>\n",
       "    <tr>\n",
       "      <th>2777</th>\n",
       "      <td>Quercus alba</td>\n",
       "      <td>0.122</td>\n",
       "      <td>Quercus rubra</td>\n",
       "      <td>Non-Sterile</td>\n",
       "      <td>Heterospecific</td>\n",
       "      <td>10.89</td>\n",
       "      <td>39.00</td>\n",
       "      <td>5.53</td>\n",
       "      <td>21.44</td>\n",
       "      <td>18.99</td>\n",
       "      <td>1.0</td>\n",
       "    </tr>\n",
       "    <tr>\n",
       "      <th>2778</th>\n",
       "      <td>Prunus serotina</td>\n",
       "      <td>0.111</td>\n",
       "      <td>Populus grandidentata</td>\n",
       "      <td>Non-Sterile</td>\n",
       "      <td>Heterospecific</td>\n",
       "      <td>40.89</td>\n",
       "      <td>0.00</td>\n",
       "      <td>0.83</td>\n",
       "      <td>9.15</td>\n",
       "      <td>11.88</td>\n",
       "      <td>1.0</td>\n",
       "    </tr>\n",
       "    <tr>\n",
       "      <th>2779</th>\n",
       "      <td>Quercus alba</td>\n",
       "      <td>0.118</td>\n",
       "      <td>Acer rubrum</td>\n",
       "      <td>Non-Sterile</td>\n",
       "      <td>Heterospecific</td>\n",
       "      <td>15.47</td>\n",
       "      <td>32.82</td>\n",
       "      <td>4.88</td>\n",
       "      <td>19.01</td>\n",
       "      <td>23.50</td>\n",
       "      <td>1.0</td>\n",
       "    </tr>\n",
       "    <tr>\n",
       "      <th>2780</th>\n",
       "      <td>Quercus alba</td>\n",
       "      <td>0.118</td>\n",
       "      <td>Quercus rubra</td>\n",
       "      <td>Non-Sterile</td>\n",
       "      <td>Heterospecific</td>\n",
       "      <td>11.96</td>\n",
       "      <td>37.67</td>\n",
       "      <td>5.51</td>\n",
       "      <td>21.13</td>\n",
       "      <td>19.10</td>\n",
       "      <td>1.0</td>\n",
       "    </tr>\n",
       "    <tr>\n",
       "      <th>2782</th>\n",
       "      <td>Prunus serotina</td>\n",
       "      <td>0.141</td>\n",
       "      <td>Populus grandidentata</td>\n",
       "      <td>Non-Sterile</td>\n",
       "      <td>Heterospecific</td>\n",
       "      <td>60.46</td>\n",
       "      <td>0.00</td>\n",
       "      <td>1.00</td>\n",
       "      <td>9.04</td>\n",
       "      <td>11.82</td>\n",
       "      <td>1.0</td>\n",
       "    </tr>\n",
       "  </tbody>\n",
       "</table>\n",
       "<p>2782 rows × 11 columns</p>\n",
       "</div>"
      ],
      "text/plain": [
       "              Species  Light_ISF                   Soil      Sterile  \\\n",
       "0      Acer saccharum      0.106        Prunus serotina  Non-Sterile   \n",
       "1        Quercus alba      0.106          Quercus rubra  Non-Sterile   \n",
       "2       Quercus rubra      0.106        Prunus serotina  Non-Sterile   \n",
       "3      Acer saccharum      0.080        Prunus serotina  Non-Sterile   \n",
       "4      Acer saccharum      0.060        Prunus serotina  Non-Sterile   \n",
       "...               ...        ...                    ...          ...   \n",
       "2777     Quercus alba      0.122          Quercus rubra  Non-Sterile   \n",
       "2778  Prunus serotina      0.111  Populus grandidentata  Non-Sterile   \n",
       "2779     Quercus alba      0.118            Acer rubrum  Non-Sterile   \n",
       "2780     Quercus alba      0.118          Quercus rubra  Non-Sterile   \n",
       "2782  Prunus serotina      0.141  Populus grandidentata  Non-Sterile   \n",
       "\n",
       "         Conspecific    AMF    EMF  Phenolics  Lignin    NSC  Event  \n",
       "0     Heterospecific  22.00   0.00      -0.56   13.86  12.15    1.0  \n",
       "1     Heterospecific  15.82  31.07       5.19   20.52  19.29    0.0  \n",
       "2     Heterospecific  24.45  28.19       3.36   24.74  15.01    1.0  \n",
       "3     Heterospecific  22.23   0.00      -0.71   14.29  12.36    1.0  \n",
       "4     Heterospecific  21.15   0.00      -0.58   10.85  11.20    1.0  \n",
       "...              ...    ...    ...        ...     ...    ...    ...  \n",
       "2777  Heterospecific  10.89  39.00       5.53   21.44  18.99    1.0  \n",
       "2778  Heterospecific  40.89   0.00       0.83    9.15  11.88    1.0  \n",
       "2779  Heterospecific  15.47  32.82       4.88   19.01  23.50    1.0  \n",
       "2780  Heterospecific  11.96  37.67       5.51   21.13  19.10    1.0  \n",
       "2782  Heterospecific  60.46   0.00       1.00    9.04  11.82    1.0  \n",
       "\n",
       "[2782 rows x 11 columns]"
      ]
     },
     "execution_count": 3,
     "metadata": {},
     "output_type": "execute_result"
    }
   ],
   "source": [
    "dataset_modif = dataset_modif.dropna(subset=[\"Event\"])\n",
    "dataset_modif.fillna(value={\"EMF\": 0}, inplace=True)\n",
    "\n",
    "dataset_modif"
   ]
  },
  {
   "cell_type": "code",
   "execution_count": 5,
   "metadata": {},
   "outputs": [],
   "source": [
    "# La guardamos en un csv\n",
    "\n",
    "dataset_modif.to_csv(\"../dataset/data_Modif.csv\", index=False)"
   ]
  },
  {
   "cell_type": "code",
   "execution_count": 8,
   "metadata": {},
   "outputs": [
    {
     "name": "stdout",
     "output_type": "stream",
     "text": [
      "<class 'pandas.core.frame.DataFrame'>\n",
      "RangeIndex: 2782 entries, 0 to 2781\n",
      "Data columns (total 11 columns):\n",
      " #   Column       Non-Null Count  Dtype  \n",
      "---  ------       --------------  -----  \n",
      " 0   Species      2782 non-null   object \n",
      " 1   Light_ISF    2782 non-null   float64\n",
      " 2   Soil         2782 non-null   object \n",
      " 3   Sterile      2782 non-null   object \n",
      " 4   Conspecific  2782 non-null   object \n",
      " 5   AMF          2782 non-null   float64\n",
      " 6   EMF          2782 non-null   float64\n",
      " 7   Phenolics    2782 non-null   float64\n",
      " 8   Lignin       2782 non-null   float64\n",
      " 9   NSC          2782 non-null   float64\n",
      " 10  Event        2782 non-null   float64\n",
      "dtypes: float64(7), object(4)\n",
      "memory usage: 239.2+ KB\n"
     ]
    }
   ],
   "source": [
    "# probamos que se haya guardado correctamente\n",
    "prueba_dataset_modif = pd.read_csv(\"../dataset/data_Modif.csv\")\n",
    "\n",
    "prueba_dataset_modif.info()"
   ]
  },
  {
   "cell_type": "markdown",
   "metadata": {},
   "source": [
    "### Modelando"
   ]
  },
  {
   "cell_type": "code",
   "execution_count": 15,
   "metadata": {},
   "outputs": [
    {
     "name": "stdout",
     "output_type": "stream",
     "text": [
      "X: (2782, 10)\n",
      "y: (2782,)\n"
     ]
    }
   ],
   "source": [
    "import pandas as pd\n",
    "\n",
    "dataset = pd.read_csv(\"../dataset/data_Modif.csv\")\n",
    "\n",
    "# dropeo cualquier observacion con algun valor nulo\n",
    "dataset =  dataset.dropna()\n",
    "\n",
    "X = dataset.drop(['Event'], axis = 1)\n",
    "y = dataset['Event']\n",
    "\n",
    "print(\"X: \" + str(X.shape))\n",
    "print(\"y: \" + str(y.shape))"
   ]
  },
  {
   "cell_type": "code",
   "execution_count": 31,
   "metadata": {},
   "outputs": [
    {
     "data": {
      "text/html": [
       "<style>#sk-container-id-5 {color: black;}#sk-container-id-5 pre{padding: 0;}#sk-container-id-5 div.sk-toggleable {background-color: white;}#sk-container-id-5 label.sk-toggleable__label {cursor: pointer;display: block;width: 100%;margin-bottom: 0;padding: 0.3em;box-sizing: border-box;text-align: center;}#sk-container-id-5 label.sk-toggleable__label-arrow:before {content: \"▸\";float: left;margin-right: 0.25em;color: #696969;}#sk-container-id-5 label.sk-toggleable__label-arrow:hover:before {color: black;}#sk-container-id-5 div.sk-estimator:hover label.sk-toggleable__label-arrow:before {color: black;}#sk-container-id-5 div.sk-toggleable__content {max-height: 0;max-width: 0;overflow: hidden;text-align: left;background-color: #f0f8ff;}#sk-container-id-5 div.sk-toggleable__content pre {margin: 0.2em;color: black;border-radius: 0.25em;background-color: #f0f8ff;}#sk-container-id-5 input.sk-toggleable__control:checked~div.sk-toggleable__content {max-height: 200px;max-width: 100%;overflow: auto;}#sk-container-id-5 input.sk-toggleable__control:checked~label.sk-toggleable__label-arrow:before {content: \"▾\";}#sk-container-id-5 div.sk-estimator input.sk-toggleable__control:checked~label.sk-toggleable__label {background-color: #d4ebff;}#sk-container-id-5 div.sk-label input.sk-toggleable__control:checked~label.sk-toggleable__label {background-color: #d4ebff;}#sk-container-id-5 input.sk-hidden--visually {border: 0;clip: rect(1px 1px 1px 1px);clip: rect(1px, 1px, 1px, 1px);height: 1px;margin: -1px;overflow: hidden;padding: 0;position: absolute;width: 1px;}#sk-container-id-5 div.sk-estimator {font-family: monospace;background-color: #f0f8ff;border: 1px dotted black;border-radius: 0.25em;box-sizing: border-box;margin-bottom: 0.5em;}#sk-container-id-5 div.sk-estimator:hover {background-color: #d4ebff;}#sk-container-id-5 div.sk-parallel-item::after {content: \"\";width: 100%;border-bottom: 1px solid gray;flex-grow: 1;}#sk-container-id-5 div.sk-label:hover label.sk-toggleable__label {background-color: #d4ebff;}#sk-container-id-5 div.sk-serial::before {content: \"\";position: absolute;border-left: 1px solid gray;box-sizing: border-box;top: 0;bottom: 0;left: 50%;z-index: 0;}#sk-container-id-5 div.sk-serial {display: flex;flex-direction: column;align-items: center;background-color: white;padding-right: 0.2em;padding-left: 0.2em;position: relative;}#sk-container-id-5 div.sk-item {position: relative;z-index: 1;}#sk-container-id-5 div.sk-parallel {display: flex;align-items: stretch;justify-content: center;background-color: white;position: relative;}#sk-container-id-5 div.sk-item::before, #sk-container-id-5 div.sk-parallel-item::before {content: \"\";position: absolute;border-left: 1px solid gray;box-sizing: border-box;top: 0;bottom: 0;left: 50%;z-index: -1;}#sk-container-id-5 div.sk-parallel-item {display: flex;flex-direction: column;z-index: 1;position: relative;background-color: white;}#sk-container-id-5 div.sk-parallel-item:first-child::after {align-self: flex-end;width: 50%;}#sk-container-id-5 div.sk-parallel-item:last-child::after {align-self: flex-start;width: 50%;}#sk-container-id-5 div.sk-parallel-item:only-child::after {width: 0;}#sk-container-id-5 div.sk-dashed-wrapped {border: 1px dashed gray;margin: 0 0.4em 0.5em 0.4em;box-sizing: border-box;padding-bottom: 0.4em;background-color: white;}#sk-container-id-5 div.sk-label label {font-family: monospace;font-weight: bold;display: inline-block;line-height: 1.2em;}#sk-container-id-5 div.sk-label-container {text-align: center;}#sk-container-id-5 div.sk-container {/* jupyter's `normalize.less` sets `[hidden] { display: none; }` but bootstrap.min.css set `[hidden] { display: none !important; }` so we also need the `!important` here to be able to override the default hidden behavior on the sphinx rendered scikit-learn.org. See: https://github.com/scikit-learn/scikit-learn/issues/21755 */display: inline-block !important;position: relative;}#sk-container-id-5 div.sk-text-repr-fallback {display: none;}</style><div id=\"sk-container-id-5\" class=\"sk-top-container\"><div class=\"sk-text-repr-fallback\"><pre>Pipeline(steps=[(&#x27;manejo de columnas&#x27;,\n",
       "                 ColumnTransformer(transformers=[(&#x27;scalador_col_num&#x27;,\n",
       "                                                  StandardScaler(),\n",
       "                                                  [&#x27;Light_ISF&#x27;, &#x27;AMF&#x27;, &#x27;EMF&#x27;,\n",
       "                                                   &#x27;Phenolics&#x27;, &#x27;Lignin&#x27;,\n",
       "                                                   &#x27;NSC&#x27;]),\n",
       "                                                 (&#x27;one-hot_cat_num&#x27;,\n",
       "                                                  OneHotEncoder(),\n",
       "                                                  [&#x27;Species&#x27;, &#x27;Soil&#x27;, &#x27;Sterile&#x27;,\n",
       "                                                   &#x27;Conspecific&#x27;])])),\n",
       "                (&#x27;core_model&#x27;, LogisticRegression(random_state=42))])</pre><b>In a Jupyter environment, please rerun this cell to show the HTML representation or trust the notebook. <br />On GitHub, the HTML representation is unable to render, please try loading this page with nbviewer.org.</b></div><div class=\"sk-container\" hidden><div class=\"sk-item sk-dashed-wrapped\"><div class=\"sk-label-container\"><div class=\"sk-label sk-toggleable\"><input class=\"sk-toggleable__control sk-hidden--visually\" id=\"sk-estimator-id-37\" type=\"checkbox\" ><label for=\"sk-estimator-id-37\" class=\"sk-toggleable__label sk-toggleable__label-arrow\">Pipeline</label><div class=\"sk-toggleable__content\"><pre>Pipeline(steps=[(&#x27;manejo de columnas&#x27;,\n",
       "                 ColumnTransformer(transformers=[(&#x27;scalador_col_num&#x27;,\n",
       "                                                  StandardScaler(),\n",
       "                                                  [&#x27;Light_ISF&#x27;, &#x27;AMF&#x27;, &#x27;EMF&#x27;,\n",
       "                                                   &#x27;Phenolics&#x27;, &#x27;Lignin&#x27;,\n",
       "                                                   &#x27;NSC&#x27;]),\n",
       "                                                 (&#x27;one-hot_cat_num&#x27;,\n",
       "                                                  OneHotEncoder(),\n",
       "                                                  [&#x27;Species&#x27;, &#x27;Soil&#x27;, &#x27;Sterile&#x27;,\n",
       "                                                   &#x27;Conspecific&#x27;])])),\n",
       "                (&#x27;core_model&#x27;, LogisticRegression(random_state=42))])</pre></div></div></div><div class=\"sk-serial\"><div class=\"sk-item sk-dashed-wrapped\"><div class=\"sk-label-container\"><div class=\"sk-label sk-toggleable\"><input class=\"sk-toggleable__control sk-hidden--visually\" id=\"sk-estimator-id-38\" type=\"checkbox\" ><label for=\"sk-estimator-id-38\" class=\"sk-toggleable__label sk-toggleable__label-arrow\">manejo de columnas: ColumnTransformer</label><div class=\"sk-toggleable__content\"><pre>ColumnTransformer(transformers=[(&#x27;scalador_col_num&#x27;, StandardScaler(),\n",
       "                                 [&#x27;Light_ISF&#x27;, &#x27;AMF&#x27;, &#x27;EMF&#x27;, &#x27;Phenolics&#x27;,\n",
       "                                  &#x27;Lignin&#x27;, &#x27;NSC&#x27;]),\n",
       "                                (&#x27;one-hot_cat_num&#x27;, OneHotEncoder(),\n",
       "                                 [&#x27;Species&#x27;, &#x27;Soil&#x27;, &#x27;Sterile&#x27;,\n",
       "                                  &#x27;Conspecific&#x27;])])</pre></div></div></div><div class=\"sk-parallel\"><div class=\"sk-parallel-item\"><div class=\"sk-item\"><div class=\"sk-label-container\"><div class=\"sk-label sk-toggleable\"><input class=\"sk-toggleable__control sk-hidden--visually\" id=\"sk-estimator-id-39\" type=\"checkbox\" ><label for=\"sk-estimator-id-39\" class=\"sk-toggleable__label sk-toggleable__label-arrow\">scalador_col_num</label><div class=\"sk-toggleable__content\"><pre>[&#x27;Light_ISF&#x27;, &#x27;AMF&#x27;, &#x27;EMF&#x27;, &#x27;Phenolics&#x27;, &#x27;Lignin&#x27;, &#x27;NSC&#x27;]</pre></div></div></div><div class=\"sk-serial\"><div class=\"sk-item\"><div class=\"sk-estimator sk-toggleable\"><input class=\"sk-toggleable__control sk-hidden--visually\" id=\"sk-estimator-id-40\" type=\"checkbox\" ><label for=\"sk-estimator-id-40\" class=\"sk-toggleable__label sk-toggleable__label-arrow\">StandardScaler</label><div class=\"sk-toggleable__content\"><pre>StandardScaler()</pre></div></div></div></div></div></div><div class=\"sk-parallel-item\"><div class=\"sk-item\"><div class=\"sk-label-container\"><div class=\"sk-label sk-toggleable\"><input class=\"sk-toggleable__control sk-hidden--visually\" id=\"sk-estimator-id-41\" type=\"checkbox\" ><label for=\"sk-estimator-id-41\" class=\"sk-toggleable__label sk-toggleable__label-arrow\">one-hot_cat_num</label><div class=\"sk-toggleable__content\"><pre>[&#x27;Species&#x27;, &#x27;Soil&#x27;, &#x27;Sterile&#x27;, &#x27;Conspecific&#x27;]</pre></div></div></div><div class=\"sk-serial\"><div class=\"sk-item\"><div class=\"sk-estimator sk-toggleable\"><input class=\"sk-toggleable__control sk-hidden--visually\" id=\"sk-estimator-id-42\" type=\"checkbox\" ><label for=\"sk-estimator-id-42\" class=\"sk-toggleable__label sk-toggleable__label-arrow\">OneHotEncoder</label><div class=\"sk-toggleable__content\"><pre>OneHotEncoder()</pre></div></div></div></div></div></div></div></div><div class=\"sk-item\"><div class=\"sk-estimator sk-toggleable\"><input class=\"sk-toggleable__control sk-hidden--visually\" id=\"sk-estimator-id-43\" type=\"checkbox\" ><label for=\"sk-estimator-id-43\" class=\"sk-toggleable__label sk-toggleable__label-arrow\">LogisticRegression</label><div class=\"sk-toggleable__content\"><pre>LogisticRegression(random_state=42)</pre></div></div></div></div></div></div></div>"
      ],
      "text/plain": [
       "Pipeline(steps=[('manejo de columnas',\n",
       "                 ColumnTransformer(transformers=[('scalador_col_num',\n",
       "                                                  StandardScaler(),\n",
       "                                                  ['Light_ISF', 'AMF', 'EMF',\n",
       "                                                   'Phenolics', 'Lignin',\n",
       "                                                   'NSC']),\n",
       "                                                 ('one-hot_cat_num',\n",
       "                                                  OneHotEncoder(),\n",
       "                                                  ['Species', 'Soil', 'Sterile',\n",
       "                                                   'Conspecific'])])),\n",
       "                ('core_model', LogisticRegression(random_state=42))])"
      ]
     },
     "metadata": {},
     "output_type": "display_data"
    }
   ],
   "source": [
    "# utilizo ColumnTransformer para manejar las columnas numericas y categoricas\n",
    "# luego un pipeline para acoplar model selectot \n",
    "from sklearn.compose import ColumnTransformer\n",
    "from sklearn.preprocessing import StandardScaler, OneHotEncoder\n",
    "from sklearn.pipeline import Pipeline\n",
    "from sklearn.linear_model import LogisticRegression\n",
    "\n",
    "# defino las columnas numericas y categoricas\n",
    "num_cols = ['Light_ISF', 'AMF', 'EMF', 'Phenolics', 'Lignin', 'NSC']\n",
    "cat_cols = ['Species', 'Soil', 'Sterile', 'Conspecific']\n",
    " \n",
    "# armo el columnTransformer\n",
    "col_trans = ColumnTransformer([\n",
    "    ('scalador_col_num', StandardScaler(), num_cols),\n",
    "    ('one-hot_cat_num', OneHotEncoder(), cat_cols)\n",
    "    ],\n",
    "    remainder='drop') # descarto el resto de columnas\n",
    "\n",
    "# armo el pipeline\n",
    "estimador = Pipeline([\n",
    "    ('manejo de columnas', col_trans),\n",
    "    ('core_model', LogisticRegression(random_state= 42))\n",
    "])\n",
    "\n",
    "display(estimador)"
   ]
  },
  {
   "cell_type": "code",
   "execution_count": 33,
   "metadata": {},
   "outputs": [
    {
     "name": "stdout",
     "output_type": "stream",
     "text": [
      "Train Score: 0.8026199550954191\n",
      "Test Score: 0.8026546504731698\n"
     ]
    }
   ],
   "source": [
    "# hago el entrenamiento por validacion cruzada\n",
    "from sklearn.model_selection import cross_validate\n",
    "import numpy as np\n",
    "\n",
    "results = cross_validate(estimador, X, y, cv=10, return_train_score=True)\n",
    "\n",
    "train_score = np.mean(results['train_score'])\n",
    "test_score = np.mean(results['test_score'])\n",
    "\n",
    "print(f'Train Score: {train_score}')\n",
    "print(f'Test Score: {test_score}')"
   ]
  },
  {
   "cell_type": "markdown",
   "metadata": {},
   "source": [
    "Se obtiene un buen score, tanto en el train como en el test (indicaria que no hay overfitting)"
   ]
  },
  {
   "cell_type": "markdown",
   "metadata": {},
   "source": [
    "### Modelo sin AMF, EMF, Phenolics, Lignin y NSC\n",
    "\n",
    "Como se indico en el data-analisis, estos valores no se puede obtener a priori, por lo que vamos a realizar un modelo que no los tenga encuenta y analisar su rendimiento"
   ]
  },
  {
   "cell_type": "code",
   "execution_count": 36,
   "metadata": {},
   "outputs": [
    {
     "data": {
      "text/html": [
       "<style>#sk-container-id-8 {color: black;}#sk-container-id-8 pre{padding: 0;}#sk-container-id-8 div.sk-toggleable {background-color: white;}#sk-container-id-8 label.sk-toggleable__label {cursor: pointer;display: block;width: 100%;margin-bottom: 0;padding: 0.3em;box-sizing: border-box;text-align: center;}#sk-container-id-8 label.sk-toggleable__label-arrow:before {content: \"▸\";float: left;margin-right: 0.25em;color: #696969;}#sk-container-id-8 label.sk-toggleable__label-arrow:hover:before {color: black;}#sk-container-id-8 div.sk-estimator:hover label.sk-toggleable__label-arrow:before {color: black;}#sk-container-id-8 div.sk-toggleable__content {max-height: 0;max-width: 0;overflow: hidden;text-align: left;background-color: #f0f8ff;}#sk-container-id-8 div.sk-toggleable__content pre {margin: 0.2em;color: black;border-radius: 0.25em;background-color: #f0f8ff;}#sk-container-id-8 input.sk-toggleable__control:checked~div.sk-toggleable__content {max-height: 200px;max-width: 100%;overflow: auto;}#sk-container-id-8 input.sk-toggleable__control:checked~label.sk-toggleable__label-arrow:before {content: \"▾\";}#sk-container-id-8 div.sk-estimator input.sk-toggleable__control:checked~label.sk-toggleable__label {background-color: #d4ebff;}#sk-container-id-8 div.sk-label input.sk-toggleable__control:checked~label.sk-toggleable__label {background-color: #d4ebff;}#sk-container-id-8 input.sk-hidden--visually {border: 0;clip: rect(1px 1px 1px 1px);clip: rect(1px, 1px, 1px, 1px);height: 1px;margin: -1px;overflow: hidden;padding: 0;position: absolute;width: 1px;}#sk-container-id-8 div.sk-estimator {font-family: monospace;background-color: #f0f8ff;border: 1px dotted black;border-radius: 0.25em;box-sizing: border-box;margin-bottom: 0.5em;}#sk-container-id-8 div.sk-estimator:hover {background-color: #d4ebff;}#sk-container-id-8 div.sk-parallel-item::after {content: \"\";width: 100%;border-bottom: 1px solid gray;flex-grow: 1;}#sk-container-id-8 div.sk-label:hover label.sk-toggleable__label {background-color: #d4ebff;}#sk-container-id-8 div.sk-serial::before {content: \"\";position: absolute;border-left: 1px solid gray;box-sizing: border-box;top: 0;bottom: 0;left: 50%;z-index: 0;}#sk-container-id-8 div.sk-serial {display: flex;flex-direction: column;align-items: center;background-color: white;padding-right: 0.2em;padding-left: 0.2em;position: relative;}#sk-container-id-8 div.sk-item {position: relative;z-index: 1;}#sk-container-id-8 div.sk-parallel {display: flex;align-items: stretch;justify-content: center;background-color: white;position: relative;}#sk-container-id-8 div.sk-item::before, #sk-container-id-8 div.sk-parallel-item::before {content: \"\";position: absolute;border-left: 1px solid gray;box-sizing: border-box;top: 0;bottom: 0;left: 50%;z-index: -1;}#sk-container-id-8 div.sk-parallel-item {display: flex;flex-direction: column;z-index: 1;position: relative;background-color: white;}#sk-container-id-8 div.sk-parallel-item:first-child::after {align-self: flex-end;width: 50%;}#sk-container-id-8 div.sk-parallel-item:last-child::after {align-self: flex-start;width: 50%;}#sk-container-id-8 div.sk-parallel-item:only-child::after {width: 0;}#sk-container-id-8 div.sk-dashed-wrapped {border: 1px dashed gray;margin: 0 0.4em 0.5em 0.4em;box-sizing: border-box;padding-bottom: 0.4em;background-color: white;}#sk-container-id-8 div.sk-label label {font-family: monospace;font-weight: bold;display: inline-block;line-height: 1.2em;}#sk-container-id-8 div.sk-label-container {text-align: center;}#sk-container-id-8 div.sk-container {/* jupyter's `normalize.less` sets `[hidden] { display: none; }` but bootstrap.min.css set `[hidden] { display: none !important; }` so we also need the `!important` here to be able to override the default hidden behavior on the sphinx rendered scikit-learn.org. See: https://github.com/scikit-learn/scikit-learn/issues/21755 */display: inline-block !important;position: relative;}#sk-container-id-8 div.sk-text-repr-fallback {display: none;}</style><div id=\"sk-container-id-8\" class=\"sk-top-container\"><div class=\"sk-text-repr-fallback\"><pre>Pipeline(steps=[(&#x27;manejo de columnas&#x27;,\n",
       "                 ColumnTransformer(transformers=[(&#x27;scalador_col_num&#x27;,\n",
       "                                                  StandardScaler(),\n",
       "                                                  [&#x27;Light_ISF&#x27;]),\n",
       "                                                 (&#x27;one-hot_cat_num&#x27;,\n",
       "                                                  OneHotEncoder(),\n",
       "                                                  [&#x27;Species&#x27;, &#x27;Soil&#x27;, &#x27;Sterile&#x27;,\n",
       "                                                   &#x27;Conspecific&#x27;])])),\n",
       "                (&#x27;core_model&#x27;, LogisticRegression(random_state=42))])</pre><b>In a Jupyter environment, please rerun this cell to show the HTML representation or trust the notebook. <br />On GitHub, the HTML representation is unable to render, please try loading this page with nbviewer.org.</b></div><div class=\"sk-container\" hidden><div class=\"sk-item sk-dashed-wrapped\"><div class=\"sk-label-container\"><div class=\"sk-label sk-toggleable\"><input class=\"sk-toggleable__control sk-hidden--visually\" id=\"sk-estimator-id-58\" type=\"checkbox\" ><label for=\"sk-estimator-id-58\" class=\"sk-toggleable__label sk-toggleable__label-arrow\">Pipeline</label><div class=\"sk-toggleable__content\"><pre>Pipeline(steps=[(&#x27;manejo de columnas&#x27;,\n",
       "                 ColumnTransformer(transformers=[(&#x27;scalador_col_num&#x27;,\n",
       "                                                  StandardScaler(),\n",
       "                                                  [&#x27;Light_ISF&#x27;]),\n",
       "                                                 (&#x27;one-hot_cat_num&#x27;,\n",
       "                                                  OneHotEncoder(),\n",
       "                                                  [&#x27;Species&#x27;, &#x27;Soil&#x27;, &#x27;Sterile&#x27;,\n",
       "                                                   &#x27;Conspecific&#x27;])])),\n",
       "                (&#x27;core_model&#x27;, LogisticRegression(random_state=42))])</pre></div></div></div><div class=\"sk-serial\"><div class=\"sk-item sk-dashed-wrapped\"><div class=\"sk-label-container\"><div class=\"sk-label sk-toggleable\"><input class=\"sk-toggleable__control sk-hidden--visually\" id=\"sk-estimator-id-59\" type=\"checkbox\" ><label for=\"sk-estimator-id-59\" class=\"sk-toggleable__label sk-toggleable__label-arrow\">manejo de columnas: ColumnTransformer</label><div class=\"sk-toggleable__content\"><pre>ColumnTransformer(transformers=[(&#x27;scalador_col_num&#x27;, StandardScaler(),\n",
       "                                 [&#x27;Light_ISF&#x27;]),\n",
       "                                (&#x27;one-hot_cat_num&#x27;, OneHotEncoder(),\n",
       "                                 [&#x27;Species&#x27;, &#x27;Soil&#x27;, &#x27;Sterile&#x27;,\n",
       "                                  &#x27;Conspecific&#x27;])])</pre></div></div></div><div class=\"sk-parallel\"><div class=\"sk-parallel-item\"><div class=\"sk-item\"><div class=\"sk-label-container\"><div class=\"sk-label sk-toggleable\"><input class=\"sk-toggleable__control sk-hidden--visually\" id=\"sk-estimator-id-60\" type=\"checkbox\" ><label for=\"sk-estimator-id-60\" class=\"sk-toggleable__label sk-toggleable__label-arrow\">scalador_col_num</label><div class=\"sk-toggleable__content\"><pre>[&#x27;Light_ISF&#x27;]</pre></div></div></div><div class=\"sk-serial\"><div class=\"sk-item\"><div class=\"sk-estimator sk-toggleable\"><input class=\"sk-toggleable__control sk-hidden--visually\" id=\"sk-estimator-id-61\" type=\"checkbox\" ><label for=\"sk-estimator-id-61\" class=\"sk-toggleable__label sk-toggleable__label-arrow\">StandardScaler</label><div class=\"sk-toggleable__content\"><pre>StandardScaler()</pre></div></div></div></div></div></div><div class=\"sk-parallel-item\"><div class=\"sk-item\"><div class=\"sk-label-container\"><div class=\"sk-label sk-toggleable\"><input class=\"sk-toggleable__control sk-hidden--visually\" id=\"sk-estimator-id-62\" type=\"checkbox\" ><label for=\"sk-estimator-id-62\" class=\"sk-toggleable__label sk-toggleable__label-arrow\">one-hot_cat_num</label><div class=\"sk-toggleable__content\"><pre>[&#x27;Species&#x27;, &#x27;Soil&#x27;, &#x27;Sterile&#x27;, &#x27;Conspecific&#x27;]</pre></div></div></div><div class=\"sk-serial\"><div class=\"sk-item\"><div class=\"sk-estimator sk-toggleable\"><input class=\"sk-toggleable__control sk-hidden--visually\" id=\"sk-estimator-id-63\" type=\"checkbox\" ><label for=\"sk-estimator-id-63\" class=\"sk-toggleable__label sk-toggleable__label-arrow\">OneHotEncoder</label><div class=\"sk-toggleable__content\"><pre>OneHotEncoder()</pre></div></div></div></div></div></div></div></div><div class=\"sk-item\"><div class=\"sk-estimator sk-toggleable\"><input class=\"sk-toggleable__control sk-hidden--visually\" id=\"sk-estimator-id-64\" type=\"checkbox\" ><label for=\"sk-estimator-id-64\" class=\"sk-toggleable__label sk-toggleable__label-arrow\">LogisticRegression</label><div class=\"sk-toggleable__content\"><pre>LogisticRegression(random_state=42)</pre></div></div></div></div></div></div></div>"
      ],
      "text/plain": [
       "Pipeline(steps=[('manejo de columnas',\n",
       "                 ColumnTransformer(transformers=[('scalador_col_num',\n",
       "                                                  StandardScaler(),\n",
       "                                                  ['Light_ISF']),\n",
       "                                                 ('one-hot_cat_num',\n",
       "                                                  OneHotEncoder(),\n",
       "                                                  ['Species', 'Soil', 'Sterile',\n",
       "                                                   'Conspecific'])])),\n",
       "                ('core_model', LogisticRegression(random_state=42))])"
      ]
     },
     "metadata": {},
     "output_type": "display_data"
    }
   ],
   "source": [
    "num_cols_2 = ['Light_ISF']\n",
    "cat_cols_2 = ['Species', 'Soil', 'Sterile', 'Conspecific']\n",
    " \n",
    "col_trans_2 = ColumnTransformer([\n",
    "    ('scalador_col_num', StandardScaler(), num_cols_2),\n",
    "    ('one-hot_cat_num', OneHotEncoder(), cat_cols_2)\n",
    "    ],\n",
    "    remainder='drop') # descarto el resto de columnas\n",
    "\n",
    "estimador_2 = Pipeline([\n",
    "    ('manejo de columnas', col_trans_2),\n",
    "    ('core_model', LogisticRegression(random_state= 42))\n",
    "])\n",
    "\n",
    "display(estimador_2)"
   ]
  },
  {
   "cell_type": "code",
   "execution_count": 40,
   "metadata": {},
   "outputs": [
    {
     "name": "stdout",
     "output_type": "stream",
     "text": [
      "Modelo con todos los parametros:\n",
      "    Train Score: 0.8026199550954191\n",
      "    Test Score: 0.8026546504731698\n",
      "------------------------------------\n",
      "Modelo con menos parametros:\n",
      "    Train Score: 0.8026598911976555\n",
      "    Test Score: 0.8026546504731698\n"
     ]
    }
   ],
   "source": [
    "X_2 = dataset.drop(['Event', 'AMF', 'EMF', 'Phenolics', 'Lignin', 'NSC'], axis = 1)\n",
    "y_2 = dataset['Event']\n",
    "\n",
    "results_2 = cross_validate(estimador_2, X_2, y_2, cv=10, return_train_score=True)\n",
    "\n",
    "train_score_2 = np.mean(results_2['train_score'])\n",
    "test_score_2 = np.mean(results_2['test_score'])\n",
    "\n",
    "print('Modelo con todos los parametros:')\n",
    "print(f'    Train Score: {train_score}')\n",
    "print(f'    Test Score: {test_score}')\n",
    "print('------------------------------------')\n",
    "print('Modelo con menos parametros:')\n",
    "print(f'    Train Score: {train_score_2}')\n",
    "print(f'    Test Score: {test_score_2}')"
   ]
  },
  {
   "cell_type": "markdown",
   "metadata": {},
   "source": [
    "La diferencia es minima podria obviar los parametros de AMF, EMF, Phenolics, Lignin y NSC.\n"
   ]
  }
 ],
 "metadata": {
  "kernelspec": {
   "display_name": "ent-model-cre",
   "language": "python",
   "name": "python3"
  },
  "language_info": {
   "codemirror_mode": {
    "name": "ipython",
    "version": 3
   },
   "file_extension": ".py",
   "mimetype": "text/x-python",
   "name": "python",
   "nbconvert_exporter": "python",
   "pygments_lexer": "ipython3",
   "version": "3.11.3"
  },
  "orig_nbformat": 4
 },
 "nbformat": 4,
 "nbformat_minor": 2
}
